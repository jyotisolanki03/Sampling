{
  "nbformat": 4,
  "nbformat_minor": 0,
  "metadata": {
    "colab": {
      "provenance": [],
      "authorship_tag": "ABX9TyNbUDRzl+2gBiuyfY/lY+lH",
      "include_colab_link": true
    },
    "kernelspec": {
      "name": "python3",
      "display_name": "Python 3"
    },
    "language_info": {
      "name": "python"
    }
  },
  "cells": [
    {
      "cell_type": "markdown",
      "metadata": {
        "id": "view-in-github",
        "colab_type": "text"
      },
      "source": [
        "<a href=\"https://colab.research.google.com/github/jyotisolanki03/Sampling/blob/main/Sampling.ipynb\" target=\"_parent\"><img src=\"https://colab.research.google.com/assets/colab-badge.svg\" alt=\"Open In Colab\"/></a>"
      ]
    },
    {
      "cell_type": "code",
      "execution_count": 1,
      "metadata": {
        "colab": {
          "base_uri": "https://localhost:8080/"
        },
        "id": "E-G-WnhGjxLY",
        "outputId": "3c44425b-cc63-49c6-d5e5-524d6ad4859e"
      },
      "outputs": [
        {
          "output_type": "stream",
          "name": "stdout",
          "text": [
            "Original Dataset Class Distribution:\n",
            "Class\n",
            "0    763\n",
            "1      9\n",
            "Name: count, dtype: int64\n",
            "\n",
            "After SMOTE (Oversampling Minority Class):\n",
            "Class\n",
            "0    534\n",
            "1    534\n",
            "Name: count, dtype: int64\n"
          ]
        }
      ],
      "source": [
        "import pandas as pd\n",
        "from imblearn.over_sampling import SMOTE\n",
        "from imblearn.under_sampling import RandomUnderSampler\n",
        "from sklearn.model_selection import train_test_split\n",
        "\n",
        "\n",
        "data = pd.read_csv('/content/Creditcard_data.csv')\n",
        "print(\"Original Dataset Class Distribution:\")\n",
        "print(data['Class'].value_counts())\n",
        "\n",
        "\n",
        "X = data.drop('Class', axis=1)\n",
        "y = data['Class']\n",
        "\n",
        "\n",
        "X_train, X_test, y_train, y_test = train_test_split(X, y, test_size=0.3, random_state=42, stratify=y)\n",
        "\n",
        "\n",
        "smote = SMOTE(random_state=42)\n",
        "X_smote, y_smote = smote.fit_resample(X_train, y_train)\n",
        "\n",
        "print(\"\\nAfter SMOTE (Oversampling Minority Class):\")\n",
        "print(pd.Series(y_smote).value_counts())\n",
        "\n",
        "\n",
        "balanced_data = pd.concat([pd.DataFrame(X_smote), pd.DataFrame(y_smote, columns=['Class'])], axis=1)\n",
        "balanced_data.to_csv('balanced_credit_card_dataset.csv',index=False)"
      ]
    },
    {
      "cell_type": "code",
      "source": [
        "import pandas as pd\n",
        "from sklearn.utils import resample\n",
        "\n",
        "\n",
        "data = pd.read_csv('/content/balanced_credit_card_dataset.csv')\n",
        "print(\"Dataset Shape:\", data.shape)\n",
        "\n",
        "# Define sample size detection formula\n",
        "def calculate_sample_size(population_size, margin_of_error=0.05, confidence_level=0.95):\n",
        "    from math import ceil\n",
        "    import scipy.stats as stats\n",
        "    # Z-score for the confidence level\n",
        "    z_score = stats.norm.ppf((1 + confidence_level) / 2)\n",
        "    p = 0.5\n",
        "    numerator = (z_score ** 2) * p * (1 - p)\n",
        "    denominator = (margin_of_error ** 2)\n",
        "    sample_size = numerator / denominator\n",
        "    corrected_sample_size = sample_size / (1 + ((sample_size - 1) / population_size))\n",
        "    return ceil(corrected_sample_size)\n",
        "\n",
        "\n",
        "population_size = len(data)\n",
        "print(\"Population Size:\", population_size)\n",
        "\n",
        "\n",
        "sample_sizes = []\n",
        "for i in range(1, 6):\n",
        "    margin_of_error = 0.05 * i\n",
        "    sample_size = calculate_sample_size(population_size, margin_of_error)\n",
        "    sample_sizes.append(sample_size)\n",
        "\n",
        "print(\"\\nCalculated Sample Sizes:\", sample_sizes)\n",
        "\n",
        "\n",
        "samples = []\n",
        "for i, size in enumerate(sample_sizes):\n",
        "    sample = resample(data, n_samples=size, stratify=data['Class'], random_state=i)\n",
        "    samples.append(sample)\n",
        "\n",
        "    sample.to_csv(f'sample_{i+1}.csv', index=False)\n",
        "    print(f\"Sample {i+1} created with size {size} and saved to 'sample_{i+1}.csv'.\")\n",
        "\n",
        "\n",
        "for i, sample in enumerate(samples):\n",
        "    print(f\"\\nSample {i+1} Class Distribution:\")\n",
        "    print(sample['Class'].value_counts())\n"
      ],
      "metadata": {
        "colab": {
          "base_uri": "https://localhost:8080/"
        },
        "id": "_Js03KD8ksEM",
        "outputId": "4a080204-247f-43d1-cb00-27e84e7fa3b6"
      },
      "execution_count": 2,
      "outputs": [
        {
          "output_type": "stream",
          "name": "stdout",
          "text": [
            "Dataset Shape: (1068, 31)\n",
            "Population Size: 1068\n",
            "\n",
            "Calculated Sample Sizes: [283, 89, 42, 24, 16]\n",
            "Sample 1 created with size 283 and saved to 'sample_1.csv'.\n",
            "Sample 2 created with size 89 and saved to 'sample_2.csv'.\n",
            "Sample 3 created with size 42 and saved to 'sample_3.csv'.\n",
            "Sample 4 created with size 24 and saved to 'sample_4.csv'.\n",
            "Sample 5 created with size 16 and saved to 'sample_5.csv'.\n",
            "\n",
            "Sample 1 Class Distribution:\n",
            "Class\n",
            "1    142\n",
            "0    141\n",
            "Name: count, dtype: int64\n",
            "\n",
            "Sample 2 Class Distribution:\n",
            "Class\n",
            "0    45\n",
            "1    44\n",
            "Name: count, dtype: int64\n",
            "\n",
            "Sample 3 Class Distribution:\n",
            "Class\n",
            "0    21\n",
            "1    21\n",
            "Name: count, dtype: int64\n",
            "\n",
            "Sample 4 Class Distribution:\n",
            "Class\n",
            "0    12\n",
            "1    12\n",
            "Name: count, dtype: int64\n",
            "\n",
            "Sample 5 Class Distribution:\n",
            "Class\n",
            "0    8\n",
            "1    8\n",
            "Name: count, dtype: int64\n"
          ]
        }
      ]
    },
    {
      "cell_type": "code",
      "source": [
        "import pandas as pd\n",
        "from sklearn.model_selection import train_test_split\n",
        "from sklearn.metrics import accuracy_score\n",
        "from sklearn.linear_model import LogisticRegression\n",
        "from sklearn.tree import DecisionTreeClassifier\n",
        "from sklearn.ensemble import RandomForestClassifier\n",
        "from sklearn.svm import SVC\n",
        "from sklearn.neighbors import KNeighborsClassifier\n",
        "\n",
        "\n",
        "samples = [pd.read_csv(f'/content/sample_{i+1}.csv') for i in range(5)]\n",
        "\n",
        "\n",
        "models = {\n",
        "    \"Logistic Regression\": LogisticRegression(max_iter=1000),\n",
        "    \"Decision Tree\": DecisionTreeClassifier(),\n",
        "    \"Random Forest\": RandomForestClassifier(n_estimators=100),\n",
        "    \"SVM\": SVC(),\n",
        "    \"KNN\": KNeighborsClassifier(n_neighbors=5)\n",
        "}\n",
        "\n",
        "\n",
        "results = {}\n",
        "\n",
        "\n",
        "for sample_idx, sample in enumerate(samples):\n",
        "\n",
        "\n",
        "    X = sample.drop(columns=['Class'])\n",
        "    y = sample['Class']\n",
        "\n",
        "\n",
        "    X_train, X_test, y_train, y_test = train_test_split(X, y, test_size=0.3, random_state=42, stratify=y)\n",
        "\n",
        "    sample_results = {}\n",
        "\n",
        "    for model_name, model in models.items():\n",
        "\n",
        "        model.fit(X_train, y_train)\n",
        "\n",
        "\n",
        "        y_pred = model.predict(X_test)\n",
        "\n",
        "\n",
        "        accuracy = accuracy_score(y_test, y_pred)\n",
        "        sample_results[model_name] = accuracy\n",
        "\n",
        "    results[f\"Sample {sample_idx+1}\"] = sample_results\n",
        "\n",
        "# Display results for all samples and models\n",
        "print(\"\\n=== Summary of Results ===\")\n",
        "for sample_name, sample_results in results.items():\n",
        "    print(f\"\\n{sample_name}:\")\n",
        "    for model_name, accuracy in sample_results.items():\n",
        "        print(f\"{model_name}: {accuracy:.2f}\")\n"
      ],
      "metadata": {
        "colab": {
          "base_uri": "https://localhost:8080/"
        },
        "id": "sqJTURGFlISW",
        "outputId": "0a4cdd71-4d62-4f2c-99e0-def566fbd186"
      },
      "execution_count": 3,
      "outputs": [
        {
          "output_type": "stream",
          "name": "stdout",
          "text": [
            "\n",
            "=== Summary of Results ===\n",
            "\n",
            "Sample 1:\n",
            "Logistic Regression: 0.99\n",
            "Decision Tree: 0.96\n",
            "Random Forest: 1.00\n",
            "SVM: 0.64\n",
            "KNN: 0.76\n",
            "\n",
            "Sample 2:\n",
            "Logistic Regression: 0.93\n",
            "Decision Tree: 0.74\n",
            "Random Forest: 0.93\n",
            "SVM: 0.59\n",
            "KNN: 0.74\n",
            "\n",
            "Sample 3:\n",
            "Logistic Regression: 0.92\n",
            "Decision Tree: 0.85\n",
            "Random Forest: 0.92\n",
            "SVM: 0.46\n",
            "KNN: 0.38\n",
            "\n",
            "Sample 4:\n",
            "Logistic Regression: 0.75\n",
            "Decision Tree: 0.75\n",
            "Random Forest: 0.62\n",
            "SVM: 0.62\n",
            "KNN: 0.62\n",
            "\n",
            "Sample 5:\n",
            "Logistic Regression: 0.80\n",
            "Decision Tree: 0.80\n",
            "Random Forest: 0.80\n",
            "SVM: 0.60\n",
            "KNN: 0.60\n"
          ]
        }
      ]
    }
  ]
}